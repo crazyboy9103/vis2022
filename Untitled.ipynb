{
 "cells": [
  {
   "cell_type": "code",
   "execution_count": 1,
   "id": "e1b6f724",
   "metadata": {},
   "outputs": [],
   "source": [
    "import glob, json"
   ]
  },
  {
   "cell_type": "code",
   "execution_count": 2,
   "id": "3101bdf9",
   "metadata": {},
   "outputs": [],
   "source": [
    "json_paths = glob.glob(\"./data/*.json\")"
   ]
  },
  {
   "cell_type": "code",
   "execution_count": 3,
   "id": "53e0c0d6",
   "metadata": {},
   "outputs": [
    {
     "data": {
      "text/plain": [
       "[]"
      ]
     },
     "execution_count": 3,
     "metadata": {},
     "output_type": "execute_result"
    }
   ],
   "source": [
    "json_paths"
   ]
  },
  {
   "cell_type": "code",
   "execution_count": 5,
   "id": "53f22bca",
   "metadata": {},
   "outputs": [
    {
     "name": "stdout",
     "output_type": "stream",
     "text": [
      " C 드라이브의 볼륨에는 이름이 없습니다.\n",
      " 볼륨 일련 번호: 8E3D-25A1\n",
      "\n",
      " C:\\Users\\david\\Desktop\\vis2022\\data 디렉터리\n",
      "\n",
      "2022-12-04  오전 10:08    <DIR>          .\n",
      "2022-12-04  오전 10:08    <DIR>          ..\n",
      "2022-12-04  오전 10:08            17,649 cluster_data.pickle\n",
      "2022-12-04  오전 10:08    <DIR>          job_posting\n",
      "2022-12-04  오전 10:08           606,037 Seoul_latlong_utf8.csv\n",
      "2022-12-04  오전 10:08         1,558,335 wanted_preprocessed.pickle\n",
      "               3개 파일           2,182,021 바이트\n",
      "               3개 디렉터리  178,355,474,432 바이트 남음\n"
     ]
    }
   ],
   "source": [
    "ls data"
   ]
  },
  {
   "cell_type": "code",
   "execution_count": null,
   "id": "0c6b38fe",
   "metadata": {},
   "outputs": [],
   "source": []
  }
 ],
 "metadata": {
  "kernelspec": {
   "display_name": "Python 3 (ipykernel)",
   "language": "python",
   "name": "python3"
  },
  "language_info": {
   "codemirror_mode": {
    "name": "ipython",
    "version": 3
   },
   "file_extension": ".py",
   "mimetype": "text/x-python",
   "name": "python",
   "nbconvert_exporter": "python",
   "pygments_lexer": "ipython3",
   "version": "3.8.0"
  }
 },
 "nbformat": 4,
 "nbformat_minor": 5
}
